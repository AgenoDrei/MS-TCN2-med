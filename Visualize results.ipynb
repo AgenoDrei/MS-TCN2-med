{
 "cells": [
  {
   "cell_type": "code",
   "execution_count": 4,
   "id": "8eb2fe4c-3278-4b13-aac2-de9dd84169bb",
   "metadata": {
    "scrolled": true
   },
   "outputs": [
    {
     "name": "stdout",
     "output_type": "stream",
     "text": [
      "Requirement already satisfied: pandas in /home/simon/miniconda3/envs/dev/lib/python3.11/site-packages (2.2.1)\n",
      "Collecting matplotlib\n",
      "  Downloading matplotlib-3.8.3-cp311-cp311-manylinux_2_17_x86_64.manylinux2014_x86_64.whl.metadata (5.8 kB)\n",
      "Requirement already satisfied: numpy<2,>=1.23.2 in /home/simon/miniconda3/envs/dev/lib/python3.11/site-packages (from pandas) (1.26.4)\n",
      "Requirement already satisfied: python-dateutil>=2.8.2 in /home/simon/miniconda3/envs/dev/lib/python3.11/site-packages (from pandas) (2.8.2)\n",
      "Requirement already satisfied: pytz>=2020.1 in /home/simon/miniconda3/envs/dev/lib/python3.11/site-packages (from pandas) (2023.3.post1)\n",
      "Requirement already satisfied: tzdata>=2022.7 in /home/simon/miniconda3/envs/dev/lib/python3.11/site-packages (from pandas) (2024.1)\n",
      "Collecting contourpy>=1.0.1 (from matplotlib)\n",
      "  Downloading contourpy-1.2.0-cp311-cp311-manylinux_2_17_x86_64.manylinux2014_x86_64.whl.metadata (5.8 kB)\n",
      "Collecting cycler>=0.10 (from matplotlib)\n",
      "  Downloading cycler-0.12.1-py3-none-any.whl.metadata (3.8 kB)\n",
      "Collecting fonttools>=4.22.0 (from matplotlib)\n",
      "  Downloading fonttools-4.50.0-cp311-cp311-manylinux_2_17_x86_64.manylinux2014_x86_64.whl.metadata (159 kB)\n",
      "\u001b[2K     \u001b[90m━━━━━━━━━━━━━━━━━━━━━━━━━━━━━━━━━━━━━━━\u001b[0m \u001b[32m159.4/159.4 kB\u001b[0m \u001b[31m9.0 MB/s\u001b[0m eta \u001b[36m0:00:00\u001b[0m\n",
      "\u001b[?25hCollecting kiwisolver>=1.3.1 (from matplotlib)\n",
      "  Downloading kiwisolver-1.4.5-cp311-cp311-manylinux_2_17_x86_64.manylinux2014_x86_64.whl.metadata (6.4 kB)\n",
      "Requirement already satisfied: packaging>=20.0 in /home/simon/miniconda3/envs/dev/lib/python3.11/site-packages (from matplotlib) (23.1)\n",
      "Requirement already satisfied: pillow>=8 in /home/simon/miniconda3/envs/dev/lib/python3.11/site-packages (from matplotlib) (10.2.0)\n",
      "Collecting pyparsing>=2.3.1 (from matplotlib)\n",
      "  Downloading pyparsing-3.1.2-py3-none-any.whl.metadata (5.1 kB)\n",
      "Requirement already satisfied: six>=1.5 in /home/simon/miniconda3/envs/dev/lib/python3.11/site-packages (from python-dateutil>=2.8.2->pandas) (1.16.0)\n",
      "Downloading matplotlib-3.8.3-cp311-cp311-manylinux_2_17_x86_64.manylinux2014_x86_64.whl (11.6 MB)\n",
      "\u001b[2K   \u001b[90m━━━━━━━━━━━━━━━━━━━━━━━━━━━━━━━━━━━━━━━━\u001b[0m \u001b[32m11.6/11.6 MB\u001b[0m \u001b[31m95.2 MB/s\u001b[0m eta \u001b[36m0:00:00\u001b[0mta \u001b[36m0:00:01\u001b[0m\n",
      "\u001b[?25hDownloading contourpy-1.2.0-cp311-cp311-manylinux_2_17_x86_64.manylinux2014_x86_64.whl (313 kB)\n",
      "\u001b[2K   \u001b[90m━━━━━━━━━━━━━━━━━━━━━━━━━━━━━━━━━━━━━━━━\u001b[0m \u001b[32m313.4/313.4 kB\u001b[0m \u001b[31m75.6 MB/s\u001b[0m eta \u001b[36m0:00:00\u001b[0m\n",
      "\u001b[?25hDownloading cycler-0.12.1-py3-none-any.whl (8.3 kB)\n",
      "Downloading fonttools-4.50.0-cp311-cp311-manylinux_2_17_x86_64.manylinux2014_x86_64.whl (4.9 MB)\n",
      "\u001b[2K   \u001b[90m━━━━━━━━━━━━━━━━━━━━━━━━━━━━━━━━━━━━━━━━\u001b[0m \u001b[32m4.9/4.9 MB\u001b[0m \u001b[31m107.3 MB/s\u001b[0m eta \u001b[36m0:00:00\u001b[0ma \u001b[36m0:00:01\u001b[0m\n",
      "\u001b[?25hDownloading kiwisolver-1.4.5-cp311-cp311-manylinux_2_17_x86_64.manylinux2014_x86_64.whl (1.4 MB)\n",
      "\u001b[2K   \u001b[90m━━━━━━━━━━━━━━━━━━━━━━━━━━━━━━━━━━━━━━━━\u001b[0m \u001b[32m1.4/1.4 MB\u001b[0m \u001b[31m105.4 MB/s\u001b[0m eta \u001b[36m0:00:00\u001b[0m\n",
      "\u001b[?25hDownloading pyparsing-3.1.2-py3-none-any.whl (103 kB)\n",
      "\u001b[2K   \u001b[90m━━━━━━━━━━━━━━━━━━━━━━━━━━━━━━━━━━━━━━━━\u001b[0m \u001b[32m103.2/103.2 kB\u001b[0m \u001b[31m36.3 MB/s\u001b[0m eta \u001b[36m0:00:00\u001b[0m\n",
      "\u001b[?25hInstalling collected packages: pyparsing, kiwisolver, fonttools, cycler, contourpy, matplotlib\n",
      "Successfully installed contourpy-1.2.0 cycler-0.12.1 fonttools-4.50.0 kiwisolver-1.4.5 matplotlib-3.8.3 pyparsing-3.1.2\n"
     ]
    }
   ],
   "source": [
    "!pip install pandas matplotlib"
   ]
  },
  {
   "cell_type": "code",
   "execution_count": 297,
   "id": "88e49f7e-d11e-4546-a63d-e6679377713f",
   "metadata": {},
   "outputs": [],
   "source": [
    "import os\n",
    "import datetime\n",
    "import numpy as np\n",
    "import pandas as pd\n",
    "import matplotlib.pyplot as plt\n",
    "\n",
    "OUT_DIR = \"./figures/\"\n",
    "if not os.path.exists(OUT_DIR): os.mkdir(OUT_DIR)\n",
    "\n",
    "color_mapping = None"
   ]
  },
  {
   "cell_type": "code",
   "execution_count": 298,
   "id": "15dc39c9-019e-4d2a-9a84-a525b77a40c6",
   "metadata": {},
   "outputs": [
    {
     "data": {
      "text/plain": [
       "['case_350',\n",
       " 'case_738',\n",
       " 'case_788',\n",
       " 'case_799',\n",
       " 'case_825',\n",
       " 'case_827',\n",
       " 'case_853',\n",
       " 'case_880',\n",
       " 'case_889',\n",
       " 'case_922']"
      ]
     },
     "execution_count": 298,
     "metadata": {},
     "output_type": "execute_result"
    }
   ],
   "source": [
    "files = os.listdir(\"./results/cataract101/split_1/\")\n",
    "files.sort()\n",
    "cases = files[::2]\n",
    "cases"
   ]
  },
  {
   "cell_type": "code",
   "execution_count": 299,
   "id": "5305dc12-6e38-463b-9050-7df02078eb23",
   "metadata": {},
   "outputs": [],
   "source": [
    "def get_labels_start_end_time(frame_wise_labels, bg_class=[\"background\"]):\n",
    "    labels = []\n",
    "    starts = []\n",
    "    ends = []\n",
    "    last_label = frame_wise_labels[0]\n",
    "    if frame_wise_labels[0] not in bg_class:\n",
    "        labels.append(frame_wise_labels[0])\n",
    "        starts.append(0)\n",
    "    for i in range(len(frame_wise_labels)):\n",
    "        if frame_wise_labels[i] != last_label:\n",
    "            if frame_wise_labels[i] not in bg_class:\n",
    "                labels.append(frame_wise_labels[i])\n",
    "                starts.append(i)\n",
    "            if last_label not in bg_class:\n",
    "                ends.append(i)\n",
    "            last_label = frame_wise_labels[i]\n",
    "    if last_label not in bg_class:\n",
    "        ends.append(i)\n",
    "    return labels, starts, ends\n",
    "\n",
    "def read_file(path): \n",
    "    with open(path, 'r') as f: \n",
    "        content = f.read()\n",
    "    return content\n",
    "\n",
    "def survey(results, category_names, colors):\n",
    "    labels = list(results.keys())\n",
    "    data = np.array(list(results.values()))\n",
    "    data_cum = data.cumsum(axis=1)\n",
    "    \n",
    "    fig, ax = plt.subplots(figsize=(25, 3))\n",
    "    ax.invert_yaxis()\n",
    "    ax.xaxis.set_visible(False)\n",
    "    ax.set_xlim(0, np.sum(data))\n",
    "\n",
    "    #print(data)\n",
    "    #print(data_cum)\n",
    "    #print(np.sum(data))\n",
    "    \n",
    "    for i, (colname, color) in enumerate(zip(category_names, colors)):\n",
    "        widths = data[:, i]\n",
    "        starts = data_cum[:, i] - widths\n",
    "        rects = ax.barh([\"\"], widths, left=starts, height=0.5, label=colname, color=color)\n",
    "\n",
    "        r, g, b = color\n",
    "        text_color = 'white' if r * g * b < 0.5 else 'darkgrey'\n",
    "        ax.bar_label(rects, label_type='center', color=text_color)\n",
    "    \n",
    "    #ax.legend(ncols=len(category_names), bbox_to_anchor=(0, 1), loc='lower left', fontsize='small')\n",
    "    return fig, ax"
   ]
  },
  {
   "cell_type": "code",
   "execution_count": 360,
   "id": "4fb7b464-4cc1-4443-8d89-1a65f2df6a63",
   "metadata": {},
   "outputs": [],
   "source": [
    "dataset = \"cataract101\"\n",
    "split = 1\n",
    "\n",
    "case = cases[8]\n",
    "pred_path = f\"./results/{dataset}/split_{split}/{case}\"\n",
    "gt_path = f\"./data/{dataset}/groundTruth/{case}.txt\"\n",
    "\n",
    "predictions = read_file(pred_path).split('\\n')[1].split()\n",
    "ground_truth = read_file(gt_path).split('\\n')\n",
    "labels_gt, start_gt, end_gt = get_labels_start_end_time(ground_truth)\n",
    "labels_pred, start_pred, end_pred = get_labels_start_end_time(predictions)\n",
    "\n",
    "colors = np.random.rand(len(labels),3)\n",
    "color_mapping = {labels_gt[i]: colors[i,:] for i in range(len(labels_gt))} if color_mapping == None else color_mapping\n",
    "\n",
    "data_gt = {\"Ground Truth\":[end_gt[i] - start_gt[i] for i, elm in enumerate(start_gt)]}\n",
    "data_pred = {\"Prediction\": [end_pred[i] - start_pred[i] for i, elm in enumerate(start_pred)]}"
   ]
  },
  {
   "cell_type": "code",
   "execution_count": 361,
   "id": "33f6e200-f88f-493e-9388-4f2c034d902f",
   "metadata": {},
   "outputs": [
    {
     "name": "stdout",
     "output_type": "stream",
     "text": [
      "{'action_start': array([0.87589282, 0.82976249, 0.54506304]), 'incision': array([0.01071338, 0.18166259, 0.25425832]), 'viscous_agent_injection': array([0.32449041, 0.22563798, 0.32480318]), 'rhexis': array([0.59483203, 0.40617359, 0.53580758]), 'hydrodissection': array([0.55701679, 0.71840251, 0.60680427]), 'phacoemulsificiation': array([0.5430579 , 0.08073757, 0.87866655]), 'irrigation_aspiration': array([0.57046833, 0.78972773, 0.10705577]), 'capsule_polishing': array([0.2194695 , 0.00487859, 0.42472359]), 'lens_implant_settingup': array([0.92929366, 0.84718787, 0.61423043]), 'viscous_agent_removal': array([0.72210082, 0.053143  , 0.74643625]), 'tonifying_antibiotics': array([0.04191664, 0.58166655, 0.8619399 ]), 'action_end': array([0.65803203, 0.02853505, 0.22484974])} ['action_start', 'incision', 'viscous_agent_injection', 'rhexis', 'hydrodissection', 'phacoemulsificiation', 'irrigation_aspiration', 'capsule_polishing', 'viscous_agent_injection', 'lens_implant_settingup', 'viscous_agent_removal', 'action_end']\n"
     ]
    },
    {
     "data": {
      "image/png": "[encoded data removed]",
      "text/plain": [
       "<Figure size 2500x300 with 1 Axes>"
      ]
     },
     "metadata": {},
     "output_type": "display_data"
    }
   ],
   "source": [
    "print(color_mapping, labels_gt)\n",
    "colors_gt = [color_mapping[elm] for elm in labels_gt]\n",
    "fig, ax = survey(data_gt, labels_gt, colors_gt)\n",
    "plt.show()\n",
    "fig.savefig(OUT_DIR + case + \"_gt.png\")"
   ]
  },
  {
   "cell_type": "code",
   "execution_count": 362,
   "id": "052f335f-22f0-4b9f-8b4a-086cbf4d367f",
   "metadata": {},
   "outputs": [
    {
     "data": {
      "image/png": "[encoded data removed]",
      "text/plain": [
       "<Figure size 2500x300 with 1 Axes>"
      ]
     },
     "metadata": {},
     "output_type": "display_data"
    }
   ],
   "source": [
    "colors_pred = [color_mapping[elm] for elm in labels_pred]\n",
    "fig, ax = survey(data_pred, labels_pred, colors_pred)\n",
    "plt.show()\n",
    "fig.savefig(OUT_DIR + case + \"_pred.png\")"
   ]
  },
  {
   "cell_type": "code",
   "execution_count": null,
   "id": "f3247e22-40fc-4a79-a5e3-b49e3c6bbab1",
   "metadata": {},
   "outputs": [],
   "source": []
  },
  {
   "cell_type": "code",
   "execution_count": null,
   "id": "14dc71a9-1a98-4fb5-9f61-45deeda1a5cf",
   "metadata": {},
   "outputs": [],
   "source": []
  },
  {
   "cell_type": "code",
   "execution_count": null,
   "id": "ed20dfdb-de67-45cd-bd40-cea949eeb75e",
   "metadata": {},
   "outputs": [],
   "source": []
  }
 ],
 "metadata": {
  "kernelspec": {
   "display_name": "Python 3 (ipykernel)",
   "language": "python",
   "name": "python3"
  },
  "language_info": {
   "codemirror_mode": {
    "name": "ipython",
    "version": 3
   },
   "file_extension": ".py",
   "mimetype": "text/x-python",
   "name": "python",
   "nbconvert_exporter": "python",
   "pygments_lexer": "ipython3",
   "version": "3.11.8"
  }
 },
 "nbformat": 4,
 "nbformat_minor": 5
}
